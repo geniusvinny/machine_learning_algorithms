{
 "cells": [
  {
   "cell_type": "markdown",
   "id": "3166ae8e",
   "metadata": {},
   "source": [
    "### Linear Regression"
   ]
  },
  {
   "cell_type": "code",
   "execution_count": 2,
   "id": "ba06ea9f",
   "metadata": {},
   "outputs": [
    {
     "name": "stdout",
     "output_type": "stream",
     "text": [
      "Accuracy: 1.0\n"
     ]
    }
   ],
   "source": [
    "from sklearn import linear_model\n",
    "from sklearn.model_selection import train_test_split\n",
    "\n",
    "# create the training data\n",
    "# X is the feature data, y is the target data\n",
    "X = [[0, 0], [1, 1], [2, 2], [3, 3]]\n",
    "y = [0, 1, 2, 3]\n",
    "\n",
    "# split the data into a training set and a test set\n",
    "X_train, X_test, y_train, y_test = train_test_split(X, y, test_size=0.3)\n",
    "\n",
    "# create the linear regression model\n",
    "model = linear_model.LinearRegression()\n",
    "\n",
    "# train the model with the training data\n",
    "model.fit(X_train, y_train)\n",
    "\n",
    "# make predictions with the model\n",
    "predictions = model.predict(X_test)\n",
    "\n",
    "# evaluate the model\n",
    "accuracy = model.score(X_test, y_test)\n",
    "print(\"Accuracy:\", accuracy)\n"
   ]
  },
  {
   "cell_type": "markdown",
   "id": "e7d6107e",
   "metadata": {},
   "source": [
    "### Logistic regression \n",
    "#### is a popular classification algorithm used to predict a binary outcome variable (e.g. yes/no, 0/1) based on one or more predictor variables."
   ]
  },
  {
   "cell_type": "code",
   "execution_count": 9,
   "id": "c4923698",
   "metadata": {},
   "outputs": [
    {
     "name": "stdout",
     "output_type": "stream",
     "text": [
      "Accuracy: 0.5\n"
     ]
    }
   ],
   "source": [
    "from sklearn import linear_model\n",
    "from sklearn.model_selection import train_test_split\n",
    "\n",
    "# create the training data\n",
    "# X is the feature data, y is the target data\n",
    "X = [[0, 0], [1, 1], [2, 2], [3, 3]]\n",
    "y = [0, 1, 0, 1]\n",
    "\n",
    "# split the data into a training set and a test set\n",
    "X_train, X_test, y_train, y_test = train_test_split(X, y, test_size=0.3)\n",
    "\n",
    "# create the logistic regression model\n",
    "model = linear_model.LogisticRegression()\n",
    "\n",
    "# train the model with the training data\n",
    "model.fit(X_train, y_train)\n",
    "\n",
    "# make predictions with the model\n",
    "predictions = model.predict(X_test)\n",
    "\n",
    "# evaluate the model\n",
    "accuracy = model.score(X_test, y_test)\n",
    "print(\"Accuracy:\", accuracy)"
   ]
  },
  {
   "cell_type": "markdown",
   "id": "ec0a09d7",
   "metadata": {},
   "source": [
    "### Decision tree \n",
    "The decision tree model works by creating a tree-like structure of decisions based on the features in the data."
   ]
  },
  {
   "cell_type": "code",
   "execution_count": null,
   "id": "217f2ea9",
   "metadata": {},
   "outputs": [],
   "source": [
    "from sklearn import tree\n",
    "from sklearn.model_selection import train_test_split\n",
    "\n",
    "# create the training data\n",
    "# X is the feature data, y is the target data\n",
    "X = [[0, 0], [1, 1], [2, 2], [3, 3]]\n",
    "y = [0, 1, 0, 1]\n",
    "\n",
    "# split the data into a training set and a test set\n",
    "X_train, X_test, y_train, y_test = train_test_split(X, y, test_size=0.3)\n",
    "\n",
    "# create the decision tree model\n",
    "model = tree.DecisionTreeClassifier()\n",
    "\n",
    "# train the model with the training data\n",
    "model.fit(X_train, y_train)\n",
    "\n",
    "# make predictions with the model\n",
    "predictions = model.predict(X_test)\n",
    "\n",
    "# evaluate the model\n",
    "accuracy = model.score(X_test, y_test)\n",
    "print(\"Accuracy:\", accuracy)"
   ]
  },
  {
   "cell_type": "markdown",
   "id": "b3c7b4c3",
   "metadata": {},
   "source": [
    "### Random forests \n",
    "are an ensemble machine learning algorithm that combines multiple decision trees to make a prediction.<br>\n",
    "Random forests work by training multiple decision trees on different random subsets of the data, and then averaging their predictions."
   ]
  },
  {
   "cell_type": "code",
   "execution_count": 16,
   "id": "045f1ba6",
   "metadata": {},
   "outputs": [
    {
     "name": "stdout",
     "output_type": "stream",
     "text": [
      "Accuracy: 0.5\n"
     ]
    }
   ],
   "source": [
    "from sklearn import ensemble\n",
    "from sklearn.model_selection import train_test_split\n",
    "\n",
    "# create the training data\n",
    "# X is the feature data, y is the target data\n",
    "X = [[0, 0], [1, 1], [2, 2], [3, 3]]\n",
    "y = [0, 1, 0, 1]\n",
    "\n",
    "# split the data into a training set and a test set\n",
    "X_train, X_test, y_train, y_test = train_test_split(X, y, test_size=0.3)\n",
    "\n",
    "# create the random forest model\n",
    "model = ensemble.RandomForestClassifier()\n",
    "\n",
    "# train the model with the training data\n",
    "model.fit(X_train, y_train)\n",
    "\n",
    "# make predictions with the model\n",
    "predictions = model.predict(X_test)\n",
    "\n",
    "# evaluate the model\n",
    "accuracy = model.score(X_test, y_test)\n",
    "print(\"Accuracy:\", accuracy)\n"
   ]
  },
  {
   "cell_type": "markdown",
   "id": "5c79462d",
   "metadata": {},
   "source": [
    "### Support Vector Machines (SVMs)\n",
    "are a type of supervised machine learning algorithm that can be used for classification or regression tasks.<br>\n",
    "SVMs work by finding the hyperplane in a high-dimensional space that maximally separates different classes."
   ]
  },
  {
   "cell_type": "code",
   "execution_count": 15,
   "id": "d3ea99e5",
   "metadata": {},
   "outputs": [
    {
     "name": "stdout",
     "output_type": "stream",
     "text": [
      "Accuracy: 0.5\n"
     ]
    }
   ],
   "source": [
    "from sklearn import svm\n",
    "from sklearn.model_selection import train_test_split\n",
    "\n",
    "# create the training data\n",
    "# X is the feature data, y is the target data\n",
    "X = [[0, 0], [1, 1], [2, 2], [3, 3]]\n",
    "y = [0, 1, 0, 1]\n",
    "\n",
    "# split the data into a training set and a test set\n",
    "X_train, X_test, y_train, y_test = train_test_split(X, y, test_size=0.3)\n",
    "\n",
    "# create the SVM model\n",
    "model = svm.SVC(kernel='linear')\n",
    "\n",
    "# train the model with the training data\n",
    "model.fit(X_train, y_train)\n",
    "\n",
    "# make predictions with the model\n",
    "predictions = model.predict(X_test)\n",
    "\n",
    "# evaluate the model\n",
    "accuracy = model.score(X_test, y_test)\n",
    "print(\"Accuracy:\", accuracy)\n"
   ]
  },
  {
   "cell_type": "markdown",
   "id": "fb00940d",
   "metadata": {},
   "source": [
    "### Neural networks\n",
    "are a complex machine learning algorithm inspired by the structure and function of the human brain.<br>\n",
    "Neural networks consist of multiple layers of interconnected \"neurons,\" which can learn to recognize patterns and make decisions based on input data. "
   ]
  },
  {
   "cell_type": "code",
   "execution_count": 18,
   "id": "dedc4efd",
   "metadata": {},
   "outputs": [
    {
     "name": "stdout",
     "output_type": "stream",
     "text": [
      "Accuracy: 0.5\n"
     ]
    },
    {
     "name": "stderr",
     "output_type": "stream",
     "text": [
      "C:\\Users\\Admin\\anaconda3\\lib\\site-packages\\sklearn\\neural_network\\_multilayer_perceptron.py:692: ConvergenceWarning: Stochastic Optimizer: Maximum iterations (200) reached and the optimization hasn't converged yet.\n",
      "  warnings.warn(\n"
     ]
    }
   ],
   "source": [
    "from sklearn import neural_network\n",
    "from sklearn.model_selection import train_test_split\n",
    "\n",
    "# create the training data\n",
    "# X is the feature data, y is the target data\n",
    "X = [[0, 0], [1, 1], [2, 2], [3, 3]]\n",
    "y = [0, 1, 0, 1]\n",
    "\n",
    "# split the data into a training set and a test set\n",
    "X_train, X_test, y_train, y_test = train_test_split(X, y, test_size=0.3)\n",
    "\n",
    "# create the neural network model\n",
    "model = neural_network.MLPClassifier(hidden_layer_sizes=(10,))\n",
    "\n",
    "# train the model with the training data\n",
    "model.fit(X_train, y_train)\n",
    "\n",
    "# make predictions with the model\n",
    "predictions = model.predict(X_test)\n",
    "\n",
    "# evaluate the model\n",
    "accuracy = model.score(X_test, y_test)\n",
    "print(\"Accuracy:\", accuracy)"
   ]
  },
  {
   "cell_type": "code",
   "execution_count": null,
   "id": "ad0bb548",
   "metadata": {},
   "outputs": [],
   "source": []
  }
 ],
 "metadata": {
  "kernelspec": {
   "display_name": "Python 3",
   "language": "python",
   "name": "python3"
  },
  "language_info": {
   "codemirror_mode": {
    "name": "ipython",
    "version": 3
   },
   "file_extension": ".py",
   "mimetype": "text/x-python",
   "name": "python",
   "nbconvert_exporter": "python",
   "pygments_lexer": "ipython3",
   "version": "3.9.13"
  },
  "toc": {
   "base_numbering": 1,
   "nav_menu": {},
   "number_sections": true,
   "sideBar": true,
   "skip_h1_title": false,
   "title_cell": "Table of Contents",
   "title_sidebar": "Contents",
   "toc_cell": false,
   "toc_position": {},
   "toc_section_display": true,
   "toc_window_display": false
  }
 },
 "nbformat": 4,
 "nbformat_minor": 5
}
